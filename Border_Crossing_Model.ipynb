{
 "cells": [
  {
   "cell_type": "code",
   "execution_count": 1,
   "metadata": {
    "colab": {
     "base_uri": "https://localhost:8080/",
     "height": 97
    },
    "colab_type": "code",
    "id": "806_qv7LAfrE",
    "outputId": "76d686b1-d757-4eab-ffb8-8998994db80b"
   },
   "outputs": [
    {
     "name": "stderr",
     "output_type": "stream",
     "text": [
      "Using TensorFlow backend.\n"
     ]
    },
    {
     "data": {
      "text/html": [
       "<p style=\"color: red;\">\n",
       "The default version of TensorFlow in Colab will soon switch to TensorFlow 2.x.<br>\n",
       "We recommend you <a href=\"https://www.tensorflow.org/guide/migrate\" target=\"_blank\">upgrade</a> now \n",
       "or ensure your notebook will continue to use TensorFlow 1.x via the <code>%tensorflow_version 1.x</code> magic:\n",
       "<a href=\"https://colab.research.google.com/notebooks/tensorflow_version.ipynb\" target=\"_blank\">more info</a>.</p>\n"
      ],
      "text/plain": [
       "<IPython.core.display.HTML object>"
      ]
     },
     "metadata": {
      "tags": []
     },
     "output_type": "display_data"
    }
   ],
   "source": [
    "import math\n",
    "import numpy as np\n",
    "import pandas as pd\n",
    "from sklearn.preprocessing import MinMaxScaler\n",
    "from sklearn.metrics import r2_score\n",
    "from keras.models import Sequential\n",
    "from keras.layers import Dense, LSTM\n",
    "import matplotlib.pyplot as plt\n",
    "import seaborn as sns\n",
    "from datetime import datetime as dt"
   ]
  },
  {
   "cell_type": "code",
   "execution_count": 2,
   "metadata": {
    "colab": {
     "base_uri": "https://localhost:8080/",
     "height": 411
    },
    "colab_type": "code",
    "id": "LZ5-Gxo-AgUp",
    "outputId": "9b66813c-9cca-4227-cf82-690b04f9ce98"
   },
   "outputs": [
    {
     "data": {
      "text/html": [
       "<div>\n",
       "<style scoped>\n",
       "    .dataframe tbody tr th:only-of-type {\n",
       "        vertical-align: middle;\n",
       "    }\n",
       "\n",
       "    .dataframe tbody tr th {\n",
       "        vertical-align: top;\n",
       "    }\n",
       "\n",
       "    .dataframe thead th {\n",
       "        text-align: right;\n",
       "    }\n",
       "</style>\n",
       "<table border=\"1\" class=\"dataframe\">\n",
       "  <thead>\n",
       "    <tr style=\"text-align: right;\">\n",
       "      <th></th>\n",
       "      <th>Port Name</th>\n",
       "      <th>State</th>\n",
       "      <th>Port Code</th>\n",
       "      <th>Border</th>\n",
       "      <th>Date</th>\n",
       "      <th>Measure</th>\n",
       "      <th>Value</th>\n",
       "      <th>Latitutde</th>\n",
       "      <th>Longitude</th>\n",
       "    </tr>\n",
       "  </thead>\n",
       "  <tbody>\n",
       "    <tr>\n",
       "      <th>0</th>\n",
       "      <td>Van Buren</td>\n",
       "      <td>Maine</td>\n",
       "      <td>108</td>\n",
       "      <td>US-Canada Border</td>\n",
       "      <td>2018-12-01</td>\n",
       "      <td>Trucks</td>\n",
       "      <td>1204</td>\n",
       "      <td>-67.94271</td>\n",
       "      <td>47.16207</td>\n",
       "    </tr>\n",
       "    <tr>\n",
       "      <th>1</th>\n",
       "      <td>Maida</td>\n",
       "      <td>North Dakota</td>\n",
       "      <td>3416</td>\n",
       "      <td>US-Canada Border</td>\n",
       "      <td>2018-12-01</td>\n",
       "      <td>Trucks</td>\n",
       "      <td>170</td>\n",
       "      <td>-98.36953</td>\n",
       "      <td>48.98568</td>\n",
       "    </tr>\n",
       "    <tr>\n",
       "      <th>2</th>\n",
       "      <td>Douglas</td>\n",
       "      <td>Arizona</td>\n",
       "      <td>2601</td>\n",
       "      <td>US-Mexico Border</td>\n",
       "      <td>2018-12-01</td>\n",
       "      <td>Buses</td>\n",
       "      <td>210</td>\n",
       "      <td>-109.54472</td>\n",
       "      <td>31.34444</td>\n",
       "    </tr>\n",
       "    <tr>\n",
       "      <th>3</th>\n",
       "      <td>Presidio</td>\n",
       "      <td>Texas</td>\n",
       "      <td>2403</td>\n",
       "      <td>US-Mexico Border</td>\n",
       "      <td>2018-12-01</td>\n",
       "      <td>Bus Passengers</td>\n",
       "      <td>238</td>\n",
       "      <td>-104.37167</td>\n",
       "      <td>29.56056</td>\n",
       "    </tr>\n",
       "    <tr>\n",
       "      <th>4</th>\n",
       "      <td>Anacortes</td>\n",
       "      <td>Washington</td>\n",
       "      <td>3010</td>\n",
       "      <td>US-Canada Border</td>\n",
       "      <td>2018-12-01</td>\n",
       "      <td>Personal Vehicle Passengers</td>\n",
       "      <td>5350</td>\n",
       "      <td>-122.61739</td>\n",
       "      <td>48.49988</td>\n",
       "    </tr>\n",
       "  </tbody>\n",
       "</table>\n",
       "</div>"
      ],
      "text/plain": [
       "   Port Name         State  Port Code  ... Value  Latitutde Longitude\n",
       "0  Van Buren         Maine        108  ...  1204  -67.94271  47.16207\n",
       "1      Maida  North Dakota       3416  ...   170  -98.36953  48.98568\n",
       "2    Douglas       Arizona       2601  ...   210 -109.54472  31.34444\n",
       "3   Presidio         Texas       2403  ...   238 -104.37167  29.56056\n",
       "4  Anacortes    Washington       3010  ...  5350 -122.61739  48.49988\n",
       "\n",
       "[5 rows x 9 columns]"
      ]
     },
     "execution_count": 2,
     "metadata": {
      "tags": []
     },
     "output_type": "execute_result"
    }
   ],
   "source": [
    "df = pd.read_csv('https://raw.githubusercontent.com/RHaile/final_project/master/data/CleanedBorderdata_2008-2018.csv', parse_dates=[\"Date\"])\n",
    "df.head()"
   ]
  },
  {
   "cell_type": "code",
   "execution_count": 3,
   "metadata": {
    "colab": {
     "base_uri": "https://localhost:8080/",
     "height": 411
    },
    "colab_type": "code",
    "id": "m1WV6gUBAhUD",
    "outputId": "e0638a39-bf9e-4d72-bb33-7f1c5b7c1d09"
   },
   "outputs": [
    {
     "data": {
      "text/html": [
       "<div>\n",
       "<style scoped>\n",
       "    .dataframe tbody tr th:only-of-type {\n",
       "        vertical-align: middle;\n",
       "    }\n",
       "\n",
       "    .dataframe tbody tr th {\n",
       "        vertical-align: top;\n",
       "    }\n",
       "\n",
       "    .dataframe thead th {\n",
       "        text-align: right;\n",
       "    }\n",
       "</style>\n",
       "<table border=\"1\" class=\"dataframe\">\n",
       "  <thead>\n",
       "    <tr style=\"text-align: right;\">\n",
       "      <th></th>\n",
       "      <th>Port Name</th>\n",
       "      <th>State</th>\n",
       "      <th>Port Code</th>\n",
       "      <th>Border</th>\n",
       "      <th>Date</th>\n",
       "      <th>Measure</th>\n",
       "      <th>Value</th>\n",
       "      <th>Latitutde</th>\n",
       "      <th>Longitude</th>\n",
       "      <th>Month_year</th>\n",
       "    </tr>\n",
       "  </thead>\n",
       "  <tbody>\n",
       "    <tr>\n",
       "      <th>0</th>\n",
       "      <td>Van Buren</td>\n",
       "      <td>Maine</td>\n",
       "      <td>108</td>\n",
       "      <td>US-Canada Border</td>\n",
       "      <td>2018-12-01</td>\n",
       "      <td>Trucks</td>\n",
       "      <td>1204</td>\n",
       "      <td>-67.94271</td>\n",
       "      <td>47.16207</td>\n",
       "      <td>2018-12</td>\n",
       "    </tr>\n",
       "    <tr>\n",
       "      <th>1</th>\n",
       "      <td>Maida</td>\n",
       "      <td>North Dakota</td>\n",
       "      <td>3416</td>\n",
       "      <td>US-Canada Border</td>\n",
       "      <td>2018-12-01</td>\n",
       "      <td>Trucks</td>\n",
       "      <td>170</td>\n",
       "      <td>-98.36953</td>\n",
       "      <td>48.98568</td>\n",
       "      <td>2018-12</td>\n",
       "    </tr>\n",
       "    <tr>\n",
       "      <th>2</th>\n",
       "      <td>Douglas</td>\n",
       "      <td>Arizona</td>\n",
       "      <td>2601</td>\n",
       "      <td>US-Mexico Border</td>\n",
       "      <td>2018-12-01</td>\n",
       "      <td>Buses</td>\n",
       "      <td>210</td>\n",
       "      <td>-109.54472</td>\n",
       "      <td>31.34444</td>\n",
       "      <td>2018-12</td>\n",
       "    </tr>\n",
       "    <tr>\n",
       "      <th>3</th>\n",
       "      <td>Presidio</td>\n",
       "      <td>Texas</td>\n",
       "      <td>2403</td>\n",
       "      <td>US-Mexico Border</td>\n",
       "      <td>2018-12-01</td>\n",
       "      <td>Bus Passengers</td>\n",
       "      <td>238</td>\n",
       "      <td>-104.37167</td>\n",
       "      <td>29.56056</td>\n",
       "      <td>2018-12</td>\n",
       "    </tr>\n",
       "    <tr>\n",
       "      <th>4</th>\n",
       "      <td>Anacortes</td>\n",
       "      <td>Washington</td>\n",
       "      <td>3010</td>\n",
       "      <td>US-Canada Border</td>\n",
       "      <td>2018-12-01</td>\n",
       "      <td>Personal Vehicle Passengers</td>\n",
       "      <td>5350</td>\n",
       "      <td>-122.61739</td>\n",
       "      <td>48.49988</td>\n",
       "      <td>2018-12</td>\n",
       "    </tr>\n",
       "  </tbody>\n",
       "</table>\n",
       "</div>"
      ],
      "text/plain": [
       "   Port Name         State  Port Code  ...  Latitutde Longitude Month_year\n",
       "0  Van Buren         Maine        108  ...  -67.94271  47.16207    2018-12\n",
       "1      Maida  North Dakota       3416  ...  -98.36953  48.98568    2018-12\n",
       "2    Douglas       Arizona       2601  ... -109.54472  31.34444    2018-12\n",
       "3   Presidio         Texas       2403  ... -104.37167  29.56056    2018-12\n",
       "4  Anacortes    Washington       3010  ... -122.61739  48.49988    2018-12\n",
       "\n",
       "[5 rows x 10 columns]"
      ]
     },
     "execution_count": 3,
     "metadata": {
      "tags": []
     },
     "output_type": "execute_result"
    }
   ],
   "source": [
    "# trying 1\n",
    "df['Month_year'] = df['Date'].dt.to_period('M')\n",
    "df['Month_year'].values.astype('datetime64[M]')\n",
    "df.head()"
   ]
  },
  {
   "cell_type": "code",
   "execution_count": 28,
   "metadata": {
    "colab": {
     "base_uri": "https://localhost:8080/",
     "height": 695
    },
    "colab_type": "code",
    "id": "we27-1itAjAz",
    "outputId": "af638bb9-9919-4977-a88a-585172d95b9e"
   },
   "outputs": [
    {
     "data": {
      "image/png": "[encoded data removed]",
      "text/plain": [
       "<Figure size 1080x720 with 1 Axes>"
      ]
     },
     "metadata": {
      "tags": []
     },
     "output_type": "display_data"
    }
   ],
   "source": [
    "# trying 1\n",
    "\n",
    "df1 = pd.DataFrame(df, columns = [\"Month_year\", \"Value\"])\n",
    "year_sum = df1.groupby([\"Month_year\"]).sum()\n",
    "year_sum.plot(figsize=(15,10))\n",
    "plt.ylabel(\"Number of Count (Million)\")\n",
    "plt.xlabel(\"Year\")\n",
    "plt.title(\"Trend in Crossing\")\n",
    "plt.show()"
   ]
  },
  {
   "cell_type": "code",
   "execution_count": 98,
   "metadata": {
    "colab": {
     "base_uri": "https://localhost:8080/",
     "height": 34
    },
    "colab_type": "code",
    "id": "1aNAn5yFAkVt",
    "outputId": "f1e8fa3d-d0a9-4e6b-e875-fcdce0eae88a"
   },
   "outputs": [
    {
     "data": {
      "text/plain": [
       "106"
      ]
     },
     "execution_count": 98,
     "metadata": {
      "tags": []
     },
     "output_type": "execute_result"
    }
   ],
   "source": [
    "data = year_sum.filter(['Value'])\n",
    "dataset = data.values\n",
    "training_data_len = math.ceil( len(dataset) * .8 )\n",
    "training_data_len"
   ]
  },
  {
   "cell_type": "code",
   "execution_count": 99,
   "metadata": {
    "colab": {
     "base_uri": "https://localhost:8080/",
     "height": 1000
    },
    "colab_type": "code",
    "id": "NjSW_uXVAnCm",
    "outputId": "9a4f938c-cb4c-447c-a432-f7f5d02262ef"
   },
   "outputs": [
    {
     "data": {
      "text/plain": [
       "array([[0.60811865],\n",
       "       [0.49901547],\n",
       "       [0.79802049],\n",
       "       [0.62196801],\n",
       "       [0.79165291],\n",
       "       [0.73909695],\n",
       "       [0.94424165],\n",
       "       [1.        ],\n",
       "       [0.66882734],\n",
       "       [0.66168189],\n",
       "       [0.51944755],\n",
       "       [0.53847338],\n",
       "       [0.4095702 ],\n",
       "       [0.19717454],\n",
       "       [0.44972416],\n",
       "       [0.39881836],\n",
       "       [0.49837524],\n",
       "       [0.4310476 ],\n",
       "       [0.67840925],\n",
       "       [0.77311476],\n",
       "       [0.41743449],\n",
       "       [0.43061519],\n",
       "       [0.37700561],\n",
       "       [0.5103313 ],\n",
       "       [0.31544631],\n",
       "       [0.1316517 ],\n",
       "       [0.3937612 ],\n",
       "       [0.34241141],\n",
       "       [0.43171174],\n",
       "       [0.38844584],\n",
       "       [0.59845159],\n",
       "       [0.6239356 ],\n",
       "       [0.32086592],\n",
       "       [0.39139366],\n",
       "       [0.21702061],\n",
       "       [0.35689389],\n",
       "       [0.17427661],\n",
       "       [0.        ],\n",
       "       [0.28093483],\n",
       "       [0.2681469 ],\n",
       "       [0.32666841],\n",
       "       [0.31255674],\n",
       "       [0.56096406],\n",
       "       [0.54150511],\n",
       "       [0.27582784],\n",
       "       [0.31155218],\n",
       "       [0.23164156],\n",
       "       [0.39022067],\n",
       "       [0.20840584],\n",
       "       [0.13887228],\n",
       "       [0.35095851],\n",
       "       [0.32086941],\n",
       "       [0.37752242],\n",
       "       [0.37257495],\n",
       "       [0.60344791],\n",
       "       [0.64320283],\n",
       "       [0.34234368],\n",
       "       [0.35635053],\n",
       "       [0.33936728],\n",
       "       [0.47601028],\n",
       "       [0.26315197],\n",
       "       [0.13484887],\n",
       "       [0.44237521],\n",
       "       [0.31940971],\n",
       "       [0.44774291],\n",
       "       [0.46615178],\n",
       "       [0.70191891],\n",
       "       [0.78195859],\n",
       "       [0.38722148],\n",
       "       [0.44812905],\n",
       "       [0.40202111],\n",
       "       [0.55136522],\n",
       "       [0.3225073 ],\n",
       "       [0.14728781],\n",
       "       [0.45090705],\n",
       "       [0.42939111],\n",
       "       [0.53253925],\n",
       "       [0.50047747],\n",
       "       [0.70888255],\n",
       "       [0.77698624],\n",
       "       [0.42304003],\n",
       "       [0.51481096],\n",
       "       [0.45600867],\n",
       "       [0.57794439],\n",
       "       [0.3685482 ],\n",
       "       [0.19041844],\n",
       "       [0.48135721],\n",
       "       [0.42691103],\n",
       "       [0.56670738],\n",
       "       [0.53645527],\n",
       "       [0.75559922],\n",
       "       [0.71755592],\n",
       "       [0.43851962],\n",
       "       [0.50579095],\n",
       "       [0.43441001],\n",
       "       [0.55132786],\n",
       "       [0.37864685],\n",
       "       [0.25465079],\n",
       "       [0.499043  ],\n",
       "       [0.41681224],\n",
       "       [0.56259526],\n",
       "       [0.511751  ],\n",
       "       [0.76809063],\n",
       "       [0.73143518],\n",
       "       [0.49636912],\n",
       "       [0.54822428],\n",
       "       [0.4294587 ],\n",
       "       [0.53431199],\n",
       "       [0.38573453],\n",
       "       [0.1944231 ],\n",
       "       [0.51539787],\n",
       "       [0.5255759 ],\n",
       "       [0.57179618],\n",
       "       [0.54532579],\n",
       "       [0.80539947],\n",
       "       [0.77720855],\n",
       "       [0.5150088 ],\n",
       "       [0.57996306],\n",
       "       [0.49516908],\n",
       "       [0.60277465],\n",
       "       [0.44770841],\n",
       "       [0.28631263],\n",
       "       [0.63884228],\n",
       "       [0.53366103],\n",
       "       [0.65190722],\n",
       "       [0.61423648],\n",
       "       [0.81987896],\n",
       "       [0.82781754],\n",
       "       [0.54453887],\n",
       "       [0.58384451],\n",
       "       [0.43687525],\n",
       "       [0.55926533]])"
      ]
     },
     "execution_count": 99,
     "metadata": {
      "tags": []
     },
     "output_type": "execute_result"
    }
   ],
   "source": [
    "scaler = MinMaxScaler(feature_range=(0,1))\n",
    "scaled_data = scaler.fit_transform(dataset)\n",
    "\n",
    "scaled_data"
   ]
  },
  {
   "cell_type": "code",
   "execution_count": 127,
   "metadata": {
    "colab": {
     "base_uri": "https://localhost:8080/",
     "height": 153
    },
    "colab_type": "code",
    "id": "nq1IvPuaAoee",
    "outputId": "b25daeca-d63d-489c-aff3-99b965ace552"
   },
   "outputs": [
    {
     "name": "stdout",
     "output_type": "stream",
     "text": [
      "[array([0.60811865, 0.49901547, 0.79802049, 0.62196801, 0.79165291,\n",
      "       0.73909695, 0.94424165, 1.        , 0.66882734, 0.66168189,\n",
      "       0.51944755, 0.53847338, 0.4095702 , 0.19717454, 0.44972416,\n",
      "       0.39881836, 0.49837524, 0.4310476 , 0.67840925, 0.77311476,\n",
      "       0.41743449, 0.43061519, 0.37700561, 0.5103313 , 0.31544631,\n",
      "       0.1316517 , 0.3937612 ])]\n",
      "[0.34241141443857614]\n",
      "\n"
     ]
    }
   ],
   "source": [
    "train_data = scaled_data[0:training_data_len , :]\n",
    "#Split the data into x_train and y_train data sets\n",
    "x_train = []\n",
    "y_train = []\n",
    "\n",
    "for i in range(27, len(train_data)):\n",
    "  x_train.append(train_data[i-27:i, 0])\n",
    "  y_train.append(train_data[i, 0])\n",
    "  if i<= 27:\n",
    "    print(x_train)\n",
    "    print(y_train)\n",
    "    print()"
   ]
  },
  {
   "cell_type": "code",
   "execution_count": 0,
   "metadata": {
    "colab": {},
    "colab_type": "code",
    "id": "F36QT8fQAqiv"
   },
   "outputs": [],
   "source": [
    "x_train, y_train = np.array(x_train), np.array(y_train)"
   ]
  },
  {
   "cell_type": "code",
   "execution_count": 129,
   "metadata": {
    "colab": {
     "base_uri": "https://localhost:8080/",
     "height": 34
    },
    "colab_type": "code",
    "id": "3uDahB5XAr1z",
    "outputId": "1131bcd1-7be7-4b8a-b86c-a91f0257943d"
   },
   "outputs": [
    {
     "data": {
      "text/plain": [
       "(79, 27, 1)"
      ]
     },
     "execution_count": 129,
     "metadata": {
      "tags": []
     },
     "output_type": "execute_result"
    }
   ],
   "source": [
    "x_train = np.reshape(x_train, (x_train.shape[0], x_train.shape[1], 1))\n",
    "x_train.shape"
   ]
  },
  {
   "cell_type": "code",
   "execution_count": 0,
   "metadata": {
    "colab": {},
    "colab_type": "code",
    "id": "Nzq0D2q5AtIO"
   },
   "outputs": [],
   "source": [
    "model = Sequential()\n",
    "model.add(LSTM(50, return_sequences=True, input_shape= (x_train.shape[1], 1)))\n",
    "model.add(LSTM(50, return_sequences= False))\n",
    "model.add(Dense(25))\n",
    "model.add(Dense(1))"
   ]
  },
  {
   "cell_type": "code",
   "execution_count": 0,
   "metadata": {
    "colab": {},
    "colab_type": "code",
    "id": "9YoN1MTvAuay"
   },
   "outputs": [],
   "source": [
    "model.compile(optimizer='adam', loss='mean_squared_error')"
   ]
  },
  {
   "cell_type": "code",
   "execution_count": 132,
   "metadata": {
    "colab": {
     "base_uri": "https://localhost:8080/",
     "height": 68
    },
    "colab_type": "code",
    "id": "rIqrTzzUAv1G",
    "outputId": "8dab46af-343a-4a22-b414-951b5c04f33e"
   },
   "outputs": [
    {
     "name": "stdout",
     "output_type": "stream",
     "text": [
      "Epoch 1/1\n",
      "79/79 [==============================] - 7s 84ms/step - loss: 0.0382\n"
     ]
    },
    {
     "data": {
      "text/plain": [
       "<keras.callbacks.History at 0x7fb3c47dd668>"
      ]
     },
     "execution_count": 132,
     "metadata": {
      "tags": []
     },
     "output_type": "execute_result"
    }
   ],
   "source": [
    "model.fit(x_train, y_train, batch_size=1, epochs=1)"
   ]
  },
  {
   "cell_type": "code",
   "execution_count": 0,
   "metadata": {
    "colab": {},
    "colab_type": "code",
    "id": "PuJYESSXAw27"
   },
   "outputs": [],
   "source": [
    "test_data = scaled_data[training_data_len - 27: , :]\n",
    "x_test = []\n",
    "y_test = dataset[training_data_len:, :]\n",
    "for i in range(27, len(test_data)):\n",
    "  x_test.append(test_data[i-27:i, 0])"
   ]
  },
  {
   "cell_type": "code",
   "execution_count": 0,
   "metadata": {
    "colab": {},
    "colab_type": "code",
    "id": "-cqVzGCsAyx7"
   },
   "outputs": [],
   "source": [
    "x_test = np.array(x_test)"
   ]
  },
  {
   "cell_type": "code",
   "execution_count": 0,
   "metadata": {
    "colab": {},
    "colab_type": "code",
    "id": "7t6XEXTlA06s"
   },
   "outputs": [],
   "source": [
    "x_test = np.reshape(x_test, (x_test.shape[0], x_test.shape[1], 1 ))"
   ]
  },
  {
   "cell_type": "code",
   "execution_count": 0,
   "metadata": {
    "colab": {},
    "colab_type": "code",
    "id": "gkC8dq_5A189"
   },
   "outputs": [],
   "source": [
    "predictions = model.predict(x_test)\n",
    "predictions = scaler.inverse_transform(predictions)"
   ]
  },
  {
   "cell_type": "code",
   "execution_count": 137,
   "metadata": {
    "colab": {
     "base_uri": "https://localhost:8080/",
     "height": 34
    },
    "colab_type": "code",
    "id": "tfwaBLYvA3CY",
    "outputId": "5622abce-84ac-4af6-b07a-94573c2a2ce0"
   },
   "outputs": [
    {
     "data": {
      "text/plain": [
       "2880159.724851511"
      ]
     },
     "execution_count": 137,
     "metadata": {
      "tags": []
     },
     "output_type": "execute_result"
    }
   ],
   "source": [
    "rmse=np.sqrt(np.mean(((predictions- y_test)**2)))\n",
    "rmse"
   ]
  },
  {
   "cell_type": "code",
   "execution_count": 138,
   "metadata": {
    "colab": {
     "base_uri": "https://localhost:8080/",
     "height": 139
    },
    "colab_type": "code",
    "id": "b82x7SvdA6jn",
    "outputId": "c5f65296-4ef2-4478-e4b2-d5805cd3f3a9"
   },
   "outputs": [
    {
     "name": "stderr",
     "output_type": "stream",
     "text": [
      "/usr/local/lib/python3.6/dist-packages/ipykernel_launcher.py:3: SettingWithCopyWarning: \n",
      "A value is trying to be set on a copy of a slice from a DataFrame.\n",
      "Try using .loc[row_indexer,col_indexer] = value instead\n",
      "\n",
      "See the caveats in the documentation: http://pandas.pydata.org/pandas-docs/stable/user_guide/indexing.html#returning-a-view-versus-a-copy\n",
      "  This is separate from the ipykernel package so we can avoid doing imports until\n"
     ]
    }
   ],
   "source": [
    "train = data[:training_data_len]\n",
    "valid = data[training_data_len:]\n",
    "valid['Predictions'] = predictions"
   ]
  },
  {
   "cell_type": "code",
   "execution_count": 139,
   "metadata": {
    "colab": {
     "base_uri": "https://localhost:8080/",
     "height": 34
    },
    "colab_type": "code",
    "id": "XfLHhA28A7rK",
    "outputId": "86c06c63-4294-47a6-9366-2c2800f41e09"
   },
   "outputs": [
    {
     "data": {
      "text/plain": [
       "-0.8657140983140565"
      ]
     },
     "execution_count": 139,
     "metadata": {
      "tags": []
     },
     "output_type": "execute_result"
    }
   ],
   "source": [
    "r2_score(valid['Value'], valid['Predictions'])"
   ]
  },
  {
   "cell_type": "code",
   "execution_count": 140,
   "metadata": {
    "colab": {
     "base_uri": "https://localhost:8080/",
     "height": 886
    },
    "colab_type": "code",
    "id": "9A-UTe72A94j",
    "outputId": "edbebdb3-3b03-46c7-b6a8-da116fe8f127"
   },
   "outputs": [
    {
     "data": {
      "text/html": [
       "<div>\n",
       "<style scoped>\n",
       "    .dataframe tbody tr th:only-of-type {\n",
       "        vertical-align: middle;\n",
       "    }\n",
       "\n",
       "    .dataframe tbody tr th {\n",
       "        vertical-align: top;\n",
       "    }\n",
       "\n",
       "    .dataframe thead th {\n",
       "        text-align: right;\n",
       "    }\n",
       "</style>\n",
       "<table border=\"1\" class=\"dataframe\">\n",
       "  <thead>\n",
       "    <tr style=\"text-align: right;\">\n",
       "      <th></th>\n",
       "      <th>Value</th>\n",
       "      <th>Predictions</th>\n",
       "    </tr>\n",
       "    <tr>\n",
       "      <th>Month_year</th>\n",
       "      <th></th>\n",
       "      <th></th>\n",
       "    </tr>\n",
       "  </thead>\n",
       "  <tbody>\n",
       "    <tr>\n",
       "      <th>2016-11</th>\n",
       "      <td>29454332</td>\n",
       "      <td>29263170.0</td>\n",
       "    </tr>\n",
       "    <tr>\n",
       "      <th>2016-12</th>\n",
       "      <td>30958929</td>\n",
       "      <td>29271580.0</td>\n",
       "    </tr>\n",
       "    <tr>\n",
       "      <th>2017-01</th>\n",
       "      <td>28826910</td>\n",
       "      <td>29279872.0</td>\n",
       "    </tr>\n",
       "    <tr>\n",
       "      <th>2017-02</th>\n",
       "      <td>26081678</td>\n",
       "      <td>29238024.0</td>\n",
       "    </tr>\n",
       "    <tr>\n",
       "      <th>2017-03</th>\n",
       "      <td>30687520</td>\n",
       "      <td>29106966.0</td>\n",
       "    </tr>\n",
       "    <tr>\n",
       "      <th>2017-04</th>\n",
       "      <td>30833570</td>\n",
       "      <td>29026142.0</td>\n",
       "    </tr>\n",
       "    <tr>\n",
       "      <th>2017-05</th>\n",
       "      <td>31496810</td>\n",
       "      <td>28981712.0</td>\n",
       "    </tr>\n",
       "    <tr>\n",
       "      <th>2017-06</th>\n",
       "      <td>31116972</td>\n",
       "      <td>28978006.0</td>\n",
       "    </tr>\n",
       "    <tr>\n",
       "      <th>2017-07</th>\n",
       "      <td>34848911</td>\n",
       "      <td>28991764.0</td>\n",
       "    </tr>\n",
       "    <tr>\n",
       "      <th>2017-08</th>\n",
       "      <td>34444384</td>\n",
       "      <td>29099452.0</td>\n",
       "    </tr>\n",
       "    <tr>\n",
       "      <th>2017-09</th>\n",
       "      <td>30681937</td>\n",
       "      <td>29251542.0</td>\n",
       "    </tr>\n",
       "    <tr>\n",
       "      <th>2017-10</th>\n",
       "      <td>31614001</td>\n",
       "      <td>29344534.0</td>\n",
       "    </tr>\n",
       "    <tr>\n",
       "      <th>2017-11</th>\n",
       "      <td>30397246</td>\n",
       "      <td>29417782.0</td>\n",
       "    </tr>\n",
       "    <tr>\n",
       "      <th>2017-12</th>\n",
       "      <td>31941337</td>\n",
       "      <td>29447340.0</td>\n",
       "    </tr>\n",
       "    <tr>\n",
       "      <th>2018-01</th>\n",
       "      <td>29716207</td>\n",
       "      <td>29481880.0</td>\n",
       "    </tr>\n",
       "    <tr>\n",
       "      <th>2018-02</th>\n",
       "      <td>27400251</td>\n",
       "      <td>29466736.0</td>\n",
       "    </tr>\n",
       "    <tr>\n",
       "      <th>2018-03</th>\n",
       "      <td>32458891</td>\n",
       "      <td>29371240.0</td>\n",
       "    </tr>\n",
       "    <tr>\n",
       "      <th>2018-04</th>\n",
       "      <td>30949588</td>\n",
       "      <td>29339664.0</td>\n",
       "    </tr>\n",
       "    <tr>\n",
       "      <th>2018-05</th>\n",
       "      <td>32646367</td>\n",
       "      <td>29314306.0</td>\n",
       "    </tr>\n",
       "    <tr>\n",
       "      <th>2018-06</th>\n",
       "      <td>32105809</td>\n",
       "      <td>29332956.0</td>\n",
       "    </tr>\n",
       "    <tr>\n",
       "      <th>2018-07</th>\n",
       "      <td>35056685</td>\n",
       "      <td>29365800.0</td>\n",
       "    </tr>\n",
       "    <tr>\n",
       "      <th>2018-08</th>\n",
       "      <td>35170600</td>\n",
       "      <td>29472246.0</td>\n",
       "    </tr>\n",
       "    <tr>\n",
       "      <th>2018-09</th>\n",
       "      <td>31105680</td>\n",
       "      <td>29621278.0</td>\n",
       "    </tr>\n",
       "    <tr>\n",
       "      <th>2018-10</th>\n",
       "      <td>31669698</td>\n",
       "      <td>29703482.0</td>\n",
       "    </tr>\n",
       "    <tr>\n",
       "      <th>2018-11</th>\n",
       "      <td>29560756</td>\n",
       "      <td>29753746.0</td>\n",
       "    </tr>\n",
       "    <tr>\n",
       "      <th>2018-12</th>\n",
       "      <td>31316998</td>\n",
       "      <td>29734412.0</td>\n",
       "    </tr>\n",
       "  </tbody>\n",
       "</table>\n",
       "</div>"
      ],
      "text/plain": [
       "               Value  Predictions\n",
       "Month_year                       \n",
       "2016-11     29454332   29263170.0\n",
       "2016-12     30958929   29271580.0\n",
       "2017-01     28826910   29279872.0\n",
       "2017-02     26081678   29238024.0\n",
       "2017-03     30687520   29106966.0\n",
       "2017-04     30833570   29026142.0\n",
       "2017-05     31496810   28981712.0\n",
       "2017-06     31116972   28978006.0\n",
       "2017-07     34848911   28991764.0\n",
       "2017-08     34444384   29099452.0\n",
       "2017-09     30681937   29251542.0\n",
       "2017-10     31614001   29344534.0\n",
       "2017-11     30397246   29417782.0\n",
       "2017-12     31941337   29447340.0\n",
       "2018-01     29716207   29481880.0\n",
       "2018-02     27400251   29466736.0\n",
       "2018-03     32458891   29371240.0\n",
       "2018-04     30949588   29339664.0\n",
       "2018-05     32646367   29314306.0\n",
       "2018-06     32105809   29332956.0\n",
       "2018-07     35056685   29365800.0\n",
       "2018-08     35170600   29472246.0\n",
       "2018-09     31105680   29621278.0\n",
       "2018-10     31669698   29703482.0\n",
       "2018-11     29560756   29753746.0\n",
       "2018-12     31316998   29734412.0"
      ]
     },
     "execution_count": 140,
     "metadata": {
      "tags": []
     },
     "output_type": "execute_result"
    }
   ],
   "source": [
    "valid"
   ]
  }
 ],
 "metadata": {
  "colab": {
   "collapsed_sections": [],
   "name": "Final Model.ipynb",
   "provenance": []
  },
  "kernelspec": {
   "display_name": "Python 3",
   "language": "python",
   "name": "python3"
  },
  "language_info": {
   "codemirror_mode": {
    "name": "ipython",
    "version": 3
   },
   "file_extension": ".py",
   "mimetype": "text/x-python",
   "name": "python",
   "nbconvert_exporter": "python",
   "pygments_lexer": "ipython3",
   "version": "3.7.6"
  }
 },
 "nbformat": 4,
 "nbformat_minor": 1
}
